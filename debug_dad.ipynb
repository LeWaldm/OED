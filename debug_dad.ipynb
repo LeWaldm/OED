{
 "cells": [
  {
   "cell_type": "code",
   "execution_count": 1,
   "metadata": {},
   "outputs": [
    {
     "name": "stdout",
     "output_type": "stream",
     "text": [
      "embedWindow(verbose=True): could not load ipyvtklink try:\n",
      "> pip install ipyvtklink\n"
     ]
    }
   ],
   "source": [
    "import torch\n",
    "import matplotlib.pyplot as plt\n",
    "import src.data_utils as dutils\n",
    "import src.model_utils as mutils\n",
    "import src.distributions as dist\n",
    "import torch.nn as nn\n",
    "%load_ext autoreload\n",
    "%autoreload 2"
   ]
  },
  {
   "cell_type": "markdown",
   "metadata": {},
   "source": [
    "Goal: implement simple 1D gaussian location finding example (c.f. Foster paper)"
   ]
  },
  {
   "cell_type": "code",
   "execution_count": 66,
   "metadata": {},
   "outputs": [
    {
     "data": {
      "text/html": [
       "<pre style=\"white-space:pre;overflow-x:auto;line-height:normal;font-family:Menlo,'DejaVu Sans Mono',consolas,'Courier New',monospace\"></pre>\n"
      ],
      "text/plain": []
     },
     "metadata": {},
     "output_type": "display_data"
    },
    {
     "data": {
      "image/png": "[encoded data removed]",
      "text/plain": [
       "\u001b[1m<\u001b[0m\u001b[1;95mFigure\u001b[0m\u001b[39m size 20\u001b[0m\u001b[1;36m0x400\u001b[0m\u001b[39m with \u001b[0m\u001b[1;36m1\u001b[0m\u001b[39m Axes\u001b[0m\u001b[1m>\u001b[0m"
      ]
     },
     "metadata": {},
     "output_type": "display_data"
    },
    {
     "name": "stdout",
     "output_type": "stream",
     "text": [
      "tensor([[[ 0.1772],\n",
      "         [24.9673]]], grad_fn=<CatBackward0>)\n"
     ]
    }
   ],
   "source": [
    "# design network\n",
    "class Encoder(nn.Module):\n",
    "    def __init__(self):\n",
    "        super().__init__()\n",
    "        self.model = nn.Sequential(\n",
    "            nn.Linear(2,256),\n",
    "            nn.ReLU(),\n",
    "            nn.Linear(256,16)\n",
    "        )\n",
    "        self.design_dim = 1\n",
    "        self.y_dim = 1\n",
    "        self.repr_dim = 16\n",
    "    def forward(self, xi,y):\n",
    "        return self.model(torch.cat([xi,y],dim=1))\n",
    "\n",
    "encoder = Encoder()\n",
    "emitter = nn.Linear(16,1)\n",
    "design_network = mutils.Design_Network(encoder,emitter)\n",
    "\n",
    "\n",
    "# distributions\n",
    "class Normal_prior(dist.Distr):\n",
    "    def __init__(self, mu=torch.tensor([0.0]), sigma=torch.tensor([1.0])):\n",
    "        super().__init__()\n",
    "        self.distr = torch.distributions.Normal(mu, sigma)\n",
    "\n",
    "    def sample(self,n):\n",
    "        return self.distr.sample([n])\n",
    "\n",
    "    def log_prob(self, thetas):\n",
    "        return self.distr.log_prob(thetas)\n",
    "\n",
    "class Squared_distance(dist.Conditional_Distr_multixi):\n",
    "    def __init__(self, sigma=torch.tensor(0.5), m=torch.tensor(1e-4)):\n",
    "        super().__init__()\n",
    "        self.sigma = sigma\n",
    "        self.m = m\n",
    "        self.reparam_trick = True\n",
    "\n",
    "    def sample(self,designs,thetas):\n",
    "        mus = self.mu(thetas, designs)\n",
    "        rvs = torch.distributions.Normal(torch.tensor(0.0), torch.tensor(1.0))\\\n",
    "            .sample([thetas.shape[0]])\n",
    "        out = mus + self.sigma * rvs\n",
    "        return out.reshape((-1,1))\n",
    "    \n",
    "    def log_prob(self,ys,designs,thetas):\n",
    "        mus = self.mu(thetas, designs)\n",
    "        return torch.distributions.Normal(mus, self.sigma).log_prob(ys.reshape((-1))).reshape(-1,1)\n",
    "    \n",
    "    def mu(self, thetas, xis):\n",
    "        return 1 / (self.m + torch.norm(thetas - xis, dim=1)**2)\n",
    "        \n",
    "prior = Normal_prior()\n",
    "likelihood = Squared_distance()\n",
    "\n",
    "\n",
    "# train design_network\n",
    "# torch.autograd.set_detect_anomaly(False)\n",
    "T = 2\n",
    "mutils.train_DAD_design_policy(\n",
    "    T,\n",
    "    prior,\n",
    "    likelihood,\n",
    "    design_network,\n",
    "    n_simulations=500,\n",
    "    batch_size=1,\n",
    "    L = 500,\n",
    "    print_every=25,\n",
    "    verbose = 'plot')\n",
    "\n",
    "# execute design\n",
    "batch_size = 1\n",
    "theta_0 = prior.sample(batch_size)\n",
    "history_xi = []\n",
    "history_y = []\n",
    "design_network.reset_buffer(batch_size)\n",
    "next_xi = torch.zeros((batch_size,design_network.design_dim))\n",
    "next_y = torch.zeros((batch_size,design_network.y_dim))\n",
    "for t in range(T):\n",
    "    next_xi = design_network(next_xi, next_y)\n",
    "    next_y = likelihood.sample(next_xi, theta_0)\n",
    "    history_xi.append(next_xi.unsqueeze(1))\n",
    "    history_y.append(next_y.unsqueeze(1))\n",
    "history_xi = torch.cat(history_xi, dim=1)  # batch_size x T x design_dim\n",
    "history_y = torch.cat(history_y, dim=1)    # batch_size x T x y_dim\n",
    "print(history_xi)"
   ]
  }
 ],
 "metadata": {
  "kernelspec": {
   "display_name": "py39",
   "language": "python",
   "name": "python3"
  },
  "language_info": {
   "codemirror_mode": {
    "name": "ipython",
    "version": 3
   },
   "file_extension": ".py",
   "mimetype": "text/x-python",
   "name": "python",
   "nbconvert_exporter": "python",
   "pygments_lexer": "ipython3",
   "version": "3.9.18"
  },
  "orig_nbformat": 4
 },
 "nbformat": 4,
 "nbformat_minor": 2
}
