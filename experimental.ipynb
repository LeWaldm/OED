{
 "cells": [
  {
   "cell_type": "code",
   "execution_count": null,
   "metadata": {},
   "outputs": [],
   "source": [
    "import data_utils as dutils\n",
    "import model_utils as mutils\n",
    "import numpy as np\n",
    "import torch\n",
    "import distributions as distr\n",
    "import matplotlib.pyplot as plt\n",
    "%load_ext autoreload\n",
    "%autoreload 2"
   ]
  },
  {
   "cell_type": "code",
   "execution_count": null,
   "metadata": {},
   "outputs": [],
   "source": [
    "# continuous optim with completely continuous tissue\n",
    "\n",
    "# data\n",
    "datamodule = dutils.Prostate_cancer_2d()\n",
    "X,y = datamodule.get_data()\n",
    "tissue = dutils.Tissue_continuous(X, y, slice_radius = 1)\n",
    "torch.autograd.set_detect_anomaly(True)\n",
    "\n",
    "# distributions\n",
    "r_prior = torch.tensor([3.0])\n",
    "mu = torch.tensor([torch.log(r_prior),0.,0.,0.])\n",
    "std = torch.tensor([1.,10.,10.,1.])\n",
    "prior = distr.Circle_prior(mu=mu,std=std)\n",
    "predictive = distr.Circle_predictive()\n",
    "\n",
    "# optimization\n",
    "eig_calc_method = mutils.eig_PCE\n",
    "eig_optim_method = mutils.eig_cont_optim\n",
    "n_designs = 4\n",
    "optim_args = {\n",
    "    'alpha': ('minmax', -torch.pi, torch.pi),\n",
    "    'y_intercept': ('minmax', -1, 1),\n",
    "}\n",
    "\n",
    "experiment, thetas_MAP, metric_values, metric_names = mutils.OED_fit(\n",
    "    tissue, prior,predictive,n_designs,eig_method,eig_optim_method,\n",
    "    print_every=50, verbose='plot',\n",
    "\n",
    "    # eig optim\n",
    "    n_steps_optim = 150,\n",
    "\n",
    "    # eig method\n",
    "    n_outer = 50,\n",
    "    n_inner = 20,\n",
    "\n",
    "    # variaional inference\n",
    "    n_steps_varinf=1200,\n",
    ")"
   ]
  }
 ],
 "metadata": {
  "language_info": {
   "name": "python"
  },
  "orig_nbformat": 4
 },
 "nbformat": 4,
 "nbformat_minor": 2
}
