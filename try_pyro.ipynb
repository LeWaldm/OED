{
 "cells": [
  {
   "cell_type": "code",
   "execution_count": 1,
   "metadata": {},
   "outputs": [],
   "source": [
    "import pyro\n",
    "import torch\n",
    "%load_ext autoreload\n",
    "%autoreload 2"
   ]
  },
  {
   "cell_type": "code",
   "execution_count": 10,
   "metadata": {},
   "outputs": [
    {
     "data": {
      "text/html": [
       "<pre style=\"white-space:pre;overflow-x:auto;line-height:normal;font-family:Menlo,'DejaVu Sans Mono',consolas,'Courier New',monospace\"></pre>\n"
      ],
      "text/plain": []
     },
     "metadata": {},
     "output_type": "display_data"
    },
    {
     "data": {
      "image/png": "[encoded data removed]",
      "text/plain": [
       "\u001b[1m<\u001b[0m\u001b[1;95mFigure\u001b[0m\u001b[39m size 30\u001b[0m\u001b[1;36m0x100\u001b[0m\u001b[39m with \u001b[0m\u001b[1;36m1\u001b[0m\u001b[39m Axes\u001b[0m\u001b[1m>\u001b[0m"
      ]
     },
     "metadata": {},
     "output_type": "display_data"
    },
    {
     "name": "stderr",
     "output_type": "stream",
     "text": [
      "/var/folders/w_/qbzxn8q16cd8rm7svpywsynr0000gq/T/ipykernel_7012/1530881931.py:30: UserWarning: negative radius possible\n",
      "  warnings.warn('negative radius possible')\n"
     ]
    },
    {
     "data": {
      "text/html": [
       "<pre style=\"white-space:pre;overflow-x:auto;line-height:normal;font-family:Menlo,'DejaVu Sans Mono',consolas,'Courier New',monospace\"></pre>\n"
      ],
      "text/plain": []
     },
     "metadata": {},
     "output_type": "display_data"
    },
    {
     "data": {
      "text/plain": [
       "\u001b[1;35mtensor\u001b[0m\u001b[1m(\u001b[0m\u001b[1;36m0.0162\u001b[0m\u001b[1m)\u001b[0m"
      ]
     },
     "execution_count": 10,
     "metadata": {},
     "output_type": "execute_result"
    }
   ],
   "source": [
    "# create tissue in pyro notation\n",
    "import pyro.distributions as dist\n",
    "import warnings\n",
    "import model_utils as mutils\n",
    "import data_utils as dutils\n",
    "import pyro.distributions.constraints as constraints\n",
    "\n",
    "class Prob_tissue:\n",
    "\n",
    "    def __init__(self, tissue:dutils.Tissue_cont_indicator) -> None:\n",
    "        self.tissue = tissue\n",
    "        \n",
    "    def compute_probs_y(self, design_params):\n",
    "        \n",
    "        # design \n",
    "        y_true, design = self.tissue.params2design(design_params)\n",
    "        weights = design[:,0]\n",
    "        design = design[:,1:3]\n",
    "\n",
    "        # prior\n",
    "        center_mu = pyro.param(\"center_mu\", torch.tensor([0.,0.]))\n",
    "        radius_mu = pyro.param(\"radius_mu\", torch.tensor([1.]), \n",
    "                               constraint=constraints.positive)\n",
    "        temp_mu = pyro.param(\"temp_mu\", torch.tensor([1.]),\n",
    "                                constraint=constraints.positive)\n",
    "        center = pyro.sample(\"center\", dist.MultivariateNormal(\n",
    "            loc=center_mu, covariance_matrix=torch.eye(2)))\n",
    "        radius = pyro.sample(\"radius\", dist.Normal(radius_mu, 1.))\n",
    "        temp = pyro.sample(\"temp\", dist.Normal(temp_mu, 1.))\n",
    "        warnings.warn('negative radius possible')\n",
    "\n",
    "        # likelihood\n",
    "        def g(design,center,radius,temp):\n",
    "            logits = temp * (torch.norm(design-center, dim=1) - radius)\n",
    "            return torch.sigmoid(-logits)\n",
    "        y = pyro.sample(\"y\", dist.Binomial(probs=g(design,center,radius,temp)))\n",
    "\n",
    "# test\n",
    "datamodule = dutils.Prostate_cancer_2d()\n",
    "X,y = datamodule.get_data(processed=True)\n",
    "slice_radius_pixel = 2\n",
    "slice_radius = slice_radius_pixel / datamodule.norm_params['std_both']\n",
    "tissue = dutils.Tissue_cont_indicator(X, y, slice_radius)\n",
    "ptissue = Prob_tissue(tissue)\n",
    "\n",
    "design_params = {\n",
    "    'intercept': torch.tensor([0.]),\n",
    "    'slope': torch.tensor([0.]),\n",
    "}\n",
    "design_params = tissue.get_initial_design_params()\n",
    "tissue.params2design(design_params)\n",
    "pyro.clear_param_store()\n",
    "ptissue.compute_probs_y(design_params)"
   ]
  },
  {
   "cell_type": "code",
   "execution_count": 9,
   "metadata": {},
   "outputs": [
    {
     "data": {
      "text/html": [
       "<pre style=\"white-space:pre;overflow-x:auto;line-height:normal;font-family:Menlo,'DejaVu Sans Mono',consolas,'Courier New',monospace\"></pre>\n"
      ],
      "text/plain": []
     },
     "metadata": {},
     "output_type": "display_data"
    },
    {
     "data": {
      "text/plain": [
       "\u001b[1;35mtensor\u001b[0m\u001b[1m(\u001b[0m\u001b[1m[\u001b[0m\u001b[1;36m2.1671\u001b[0m\u001b[1m]\u001b[0m\u001b[1m)\u001b[0m"
      ]
     },
     "execution_count": 9,
     "metadata": {},
     "output_type": "execute_result"
    }
   ],
   "source": [
    "# variational inference with prior and all data observed\n",
    "pyro.sample('test', lambda: 5.0 * torch.randn(1))"
   ]
  },
  {
   "cell_type": "code",
   "execution_count": null,
   "metadata": {},
   "outputs": [],
   "source": [
    "# differentiable pce"
   ]
  }
 ],
 "metadata": {
  "kernelspec": {
   "display_name": "py39",
   "language": "python",
   "name": "python3"
  },
  "language_info": {
   "codemirror_mode": {
    "name": "ipython",
    "version": 3
   },
   "file_extension": ".py",
   "mimetype": "text/x-python",
   "name": "python",
   "nbconvert_exporter": "python",
   "pygments_lexer": "ipython3",
   "version": "3.9.18"
  },
  "orig_nbformat": 4
 },
 "nbformat": 4,
 "nbformat_minor": 2
}
